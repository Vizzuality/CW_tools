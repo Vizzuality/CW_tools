{
 "cells": [
  {
   "cell_type": "markdown",
   "metadata": {},
   "source": [
    "### PDF to plaintext\n",
    "\n",
    "Task: Demonstrate how we can extract plain-text content from PDF files. Useful for processing Climate Watch, NDC pdfs (e.g. as can be [downloaded from CAIT](http://cait.wri.org/indc/)). Examples of these pdfs are contained in this repo in the *NDF_pdfs* subfolder.\n",
    "\n",
    "We will use the [pdfminer](http://euske.github.io/pdfminer/index.html), a pure Python 2.7 (only) library.\n",
    "\n",
    "Note. I also investigated [PyPDF2](https://pythonhosted.org/PyPDF2/PdfFileReader.html) but found it produced poorer results."
   ]
  },
  {
   "cell_type": "code",
   "execution_count": 1,
   "metadata": {
    "collapsed": true
   },
   "outputs": [],
   "source": [
    "from pdfminer.pdfinterp import PDFResourceManager, PDFPageInterpreter\n",
    "from pdfminer.converter import TextConverter\n",
    "from pdfminer.layout import LAParams\n",
    "from pdfminer.pdfpage import PDFPage\n",
    "from pprint import pprint\n",
    "from cStringIO import StringIO\n",
    "from tqdm import tqdm"
   ]
  },
  {
   "cell_type": "code",
   "execution_count": 2,
   "metadata": {
    "collapsed": false
   },
   "outputs": [],
   "source": [
    "def clean_block(text):\n",
    "    if '\\r' in text:\n",
    "        test = ''.join(text.split('\\r'))\n",
    "    if '\\t' in test:    \n",
    "        text = ''.join(text.split('\\t'))\n",
    "    if '\\n' in test:\n",
    "        text = ''.join(text.split('\\n'))\n",
    "    return text\n",
    "\n",
    "def convert_pdf_to_txt(path, clean=False):\n",
    "    rsrcmgr = PDFResourceManager()\n",
    "    retstr = StringIO()\n",
    "    codec = 'utf-8'\n",
    "    laparams = LAParams()\n",
    "    device = TextConverter(rsrcmgr, retstr, codec=codec, laparams=laparams)\n",
    "    fp = file(path, 'rb')\n",
    "    interpreter = PDFPageInterpreter(rsrcmgr, device)\n",
    "    password = \"\"\n",
    "    maxpages = 0\n",
    "    caching = True\n",
    "    pagenos=set()\n",
    "    for page in PDFPage.get_pages(fp, pagenos, maxpages=maxpages, password=password,caching=caching, check_extractable=True):\n",
    "        interpreter.process_page(page)\n",
    "    fp.close()\n",
    "    device.close()\n",
    "    text = retstr.getvalue()\n",
    "    retstr.close()\n",
    "    if clean:\n",
    "        text = clean_block(text)\n",
    "    # append utf-8 tag\n",
    "    utf_tag = \"<meta http-equiv='Content-Type' content='text/html; charset=utf-8'>\"\n",
    "    text=''.join([utf_tag, text])\n",
    "    # replace crappy ’ character with '\n",
    "    text=text.replace(\"’\",\"'\")\n",
    "    # replace \\xef\\x82\\xb7 which renders as , with the asterisk unicode character (*)\n",
    "    text=text.replace(\"\\xef\\x82\\xb7\", \"*\")\n",
    "    text=text.replace(\"\\xef\\x82\\x9f\", \"*\")\n",
    "    # replace \\xe2\\x80\\x93 which renders as a dash (-)\n",
    "    text=text.replace(\"\\xe2\\x80\\x93\",\"-\")\n",
    "    # replace \\xe2\\x80\\x9c (“) and \\xe2\\x80\\x9d with escaped double-quote /\"\n",
    "    text=text.replace(\"\\xe2\\x80\\x9c\",\"\\\"\")\n",
    "    text=text.replace(\"\\xe2\\x80\\x9d\",\"\\\"\")\n",
    "    # remove \\x0c\n",
    "    text=text.replace(\"\\x0c\",\"\")\n",
    "    # Remove the page numbers (be careful here this doesnt affect tables...)\n",
    "    pg = 1\n",
    "    while \"\\n\\n{0} \\n\".format(pg) in text:\n",
    "        page_number=\"\\n\\n{0} \\n\".format(pg)\n",
    "        #print(page_number)\n",
    "        #print(page_number in text)\n",
    "        text=text.replace(page_number,\"\")\n",
    "        pg+=1\n",
    "    return text"
   ]
  },
  {
   "cell_type": "code",
   "execution_count": 7,
   "metadata": {
    "collapsed": false,
    "scrolled": false
   },
   "outputs": [],
   "source": [
    "fname = \"./pdfs/NDC/iNDC Per\\xc2\\xa3 castellano.pdf\"\n",
    "test = convert_pdf_to_txt(fname, clean=False)"
   ]
  },
  {
   "cell_type": "code",
   "execution_count": 9,
   "metadata": {
    "collapsed": false,
    "scrolled": false
   },
   "outputs": [],
   "source": [
    "#test"
   ]
  },
  {
   "cell_type": "markdown",
   "metadata": {},
   "source": [
    "Save the plain text to a file as follows."
   ]
  },
  {
   "cell_type": "code",
   "execution_count": null,
   "metadata": {
    "collapsed": true
   },
   "outputs": [],
   "source": [
    "with open(\"./pdfs/test.txt\", \"w\") as text_file:\n",
    "    text_file.write(test)"
   ]
  },
  {
   "cell_type": "markdown",
   "metadata": {},
   "source": [
    "### Looping over files\n",
    "\n",
    "To process multiple files, you can identify the target files, and process them all using the following.\n",
    "After which, you can add Markdown style, and then convert to html using pandoc via `pandoc input.md -o output.html`"
   ]
  },
  {
   "cell_type": "code",
   "execution_count": 3,
   "metadata": {
    "collapsed": true
   },
   "outputs": [],
   "source": [
    "import os"
   ]
  },
  {
   "cell_type": "code",
   "execution_count": 33,
   "metadata": {
    "collapsed": true
   },
   "outputs": [],
   "source": [
    "pdf_directory = './pdfs/INDC/'\n",
    "files = [ filename for filename in os.listdir(pdf_directory) if filename.endswith('.pdf')]"
   ]
  },
  {
   "cell_type": "code",
   "execution_count": 34,
   "metadata": {
    "collapsed": false
   },
   "outputs": [
    {
     "name": "stderr",
     "output_type": "stream",
     "text": [
      "100%|██████████| 206/206 [10:00<00:00,  2.12s/it]\n"
     ]
    }
   ],
   "source": [
    "if not os.path.exists(pdf_directory + 'text_files/'):\n",
    "    os.mkdir(pdf_directory + 'text_files/')\n",
    "for fname in tqdm(files):\n",
    "    target = ''.join([pdf_directory,'/', fname])\n",
    "    text = convert_pdf_to_txt(path=target, clean=False)\n",
    "    output_file=fname.replace(\".pdf\",'.md')\n",
    "    with open(pdf_directory + 'text_files/' + output_file, \"w\") as text_file:\n",
    "        text_file.write(text)"
   ]
  },
  {
   "cell_type": "code",
   "execution_count": null,
   "metadata": {
    "collapsed": true
   },
   "outputs": [],
   "source": []
  }
 ],
 "metadata": {
  "kernelspec": {
   "display_name": "Python 2",
   "language": "python",
   "name": "python2"
  },
  "language_info": {
   "codemirror_mode": {
    "name": "ipython",
    "version": 2
   },
   "file_extension": ".py",
   "mimetype": "text/x-python",
   "name": "python",
   "nbconvert_exporter": "python",
   "pygments_lexer": "ipython2",
   "version": "2.7.11"
  }
 },
 "nbformat": 4,
 "nbformat_minor": 2
}
