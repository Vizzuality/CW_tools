{
 "cells": [
  {
   "cell_type": "markdown",
   "metadata": {},
   "source": [
    "### PDF to plaintext\n",
    "\n",
    "Task: Demonstrate how we can extract plain-text content from PDF files. Useful for processing Climate Watch, NDC pdfs (e.g. as can be [downloaded from CAIT](http://cait.wri.org/indc/)). Examples of these pdfs are contained in this repo in the *NDF_pdfs* subfolder.\n",
    "\n",
    "We will use the [pdfminer](http://euske.github.io/pdfminer/index.html), a pure Python 2.7 (only) library.\n",
    "\n",
    "Note. I also investigated [PyPDF2](https://pythonhosted.org/PyPDF2/PdfFileReader.html) but found it produced poorer results."
   ]
  },
  {
   "cell_type": "code",
   "execution_count": 1,
   "metadata": {
    "collapsed": true
   },
   "outputs": [],
   "source": [
    "from pdfminer.pdfinterp import PDFResourceManager, PDFPageInterpreter\n",
    "from pdfminer.converter import TextConverter\n",
    "from pdfminer.layout import LAParams\n",
    "from pdfminer.pdfpage import PDFPage\n",
    "from pprint import pprint\n",
    "from cStringIO import StringIO"
   ]
  },
  {
   "cell_type": "code",
   "execution_count": 2,
   "metadata": {
    "collapsed": false
   },
   "outputs": [],
   "source": [
    "def clean_block(text):\n",
    "    if '\\r' in text:\n",
    "        test = ''.join(text.split('\\r'))\n",
    "    if '\\t' in test:    \n",
    "        text = ''.join(text.split('\\t'))\n",
    "    if '\\n' in test:\n",
    "        text = ''.join(text.split('\\n'))\n",
    "    return text\n",
    "\n",
    "def convert_pdf_to_txt(path, clean=False):\n",
    "    rsrcmgr = PDFResourceManager()\n",
    "    retstr = StringIO()\n",
    "    codec = 'utf-8'\n",
    "    laparams = LAParams()\n",
    "    device = TextConverter(rsrcmgr, retstr, codec=codec, laparams=laparams)\n",
    "    fp = file(path, 'rb')\n",
    "    interpreter = PDFPageInterpreter(rsrcmgr, device)\n",
    "    password = \"\"\n",
    "    maxpages = 0\n",
    "    caching = True\n",
    "    pagenos=set()\n",
    "    for page in PDFPage.get_pages(fp, pagenos, maxpages=maxpages, password=password,caching=caching, check_extractable=True):\n",
    "        interpreter.process_page(page)\n",
    "    fp.close()\n",
    "    device.close()\n",
    "    text = retstr.getvalue()\n",
    "    retstr.close()\n",
    "    if clean:\n",
    "        text = clean_block(text)\n",
    "    return text"
   ]
  },
  {
   "cell_type": "code",
   "execution_count": 8,
   "metadata": {
    "collapsed": false,
    "scrolled": false
   },
   "outputs": [],
   "source": [
    "fname = './NDC_pdfs/INDC_AFG_Paper_En_20150927_.docx FINAL.pdf'\n",
    "test = convert_pdf_to_txt(fname, clean=False)"
   ]
  },
  {
   "cell_type": "code",
   "execution_count": 9,
   "metadata": {
    "collapsed": false,
    "scrolled": true
   },
   "outputs": [
    {
     "data": {
      "text/plain": [
       "' \\n\\n \\n\\n \\n\\n \\n\\n \\n\\nISLAMIC REPUBLIC OF AFGHANISTAN \\n\\nIntended Nationally Determined Contribution  \\n\\nSubmission to the United Nations Framework Convention on Climate Change \\n\\n21 September 2015 \\n\\n***** \\n\\nThe Islamic Republic of Afghanistan hereby communicates its Intended Nationally Determined \\nContribution (INDC) and information to facilitate understanding of the contribution.  \\n\\nExecutive Summary \\n\\nBase Year: \\n\\n2005 \\n\\nTarget Years: \\n\\n2020 to 2030 \\n\\nContribution Type:  Conditional \\n\\nSectors: \\n\\nEnergy, natural resource management, agriculture, waste management and mining \\n\\nGases Covered: \\n\\nCarbon dioxide (CO2), methane (CH4), and nitrous oxide (N2O) \\n\\nTarget: \\n\\nThere will be a 13.6% reduction in GHG emissions by 2030 compared to a business \\nas usual (BAU) 2030 scenario, conditional on external support. \\n\\nFinancial Needs: \\n\\nTotal: USD 17.405 billion  \\n\\n\\xef\\x82\\xb7 Adaptation: USD 10.785 billion \\n\\xef\\x82\\xb7 Mitigation: USD 6.62 billion (2020-2030) \\n\\n \\n\\n \\n\\n \\n\\n \\n\\n \\n\\n \\n\\n \\n\\n \\n\\n \\n\\n \\n\\n \\n\\n \\n\\nFigure 1 Figure 1. Greenhouse Gas Emissions for Afghanistan showing \\n13.6% relative reduction in emissions compared to a business as usual \\nscenario for the year 2030 \\n\\n \\n\\n1 \\n\\n\\x0c1. Afghanistan\\xe2\\x80\\x99s National Circumstances and Commitment to Climate Change \\n\\nIntroduction \\n\\n \\n\\nAfghanistan  has  extensive  development  and  climate  adaptation  needs  and,  currently,  low  levels  of \\ngreenhouse  gas  (GHG)  emissions.  Afghanistan  remains  one  of  the  poorest  countries  in  the  world  today, \\nwith an estimated population of 28.6 million (2015)1 and a per capita GDP of USD 660.2  \\n \\nAfghanistan is highly prone to natural disasters throughout its 34 provinces.3 As a result of climate change, \\nit is anticipated that the incidence of extreme weather events, including heat waves, floods, and droughts \\nwill likely increase, as will climate change-linked disasters such as glacial lake outflows. The majority of \\nAfghanistan\\xe2\\x80\\x99s population relies directly or indirectly on the available natural resources for their livelihoods \\nso  with  these  climatic  changes  the  foundation  of  the  country\\xe2\\x80\\x99s  economy,  stability,  and  food  security  is \\nunder threat. \\n \\nDespite  these  challenges,  Afghanistan  can  remain  a  low  emission  economy  while  developing  rapidly  if, \\nunder the Paris Climate Change Agreement, extensive financial and other resources are made available to \\nallow Afghanistan to successfully develop and implement Low Emission Development Strategies (LEDS) \\nand Highly Effective Adaptation and Development Strategies (HEADS).  \\n \\nAppropriate support in the form of finance, capacity building, technology and legal assistance is needed for \\nAfghanistan to make substantial progress on social and economic fronts while maintaining low per capita \\nGHG emission levels. \\n \\nDescription of Fairness and Ambition \\n\\nAfghanistan  recognizes  that  all  countries  in  the  world  need  to  make  rapid  progress  towards  lowering,  or \\nmaintaining  if  already  low,  per  capita  emission  levels  to  avoid  dangerous  levels  of  global  warming.  It  is \\ntherefore  critical  that  under  the  Paris  Agreement,  financial  resources,  capacity  building,  technology \\ntransfer,  and  other  support  is  provided  to  Afghanistan  in  order  to  enable  it  to  implement  LEDS  and \\nHEADS. This will allow Afghanistan to continue developing while maintaining low level of emissions and \\nincreasing adaptive capacity to climate change.  \\n \\nThere  would  be  lower  costs  and  a  clearer  development  path  for  Afghanistan  if  it  pursued  development \\nusing mainly fossil fuels, as other countries have. This would likely result in GHG emission in Afghanistan \\ncontinuing  to  increase  at  current  rates  for  the  period  to  2025  and  beyond.  However,  given  the  extremely \\nlimited  remaining  global  GHG  emissions  budget,  Afghanistan  requires  the  UNFCCC,  the  Global \\nEnvironmental  Facility  (GEF),  the  Green  Climate  Fund  (GCF),  and  other  international  institutional \\narrangements to provide the extra finance and other support needed to successfully implement LEDS across \\nall sectors of its economy without compromising socio-economic development goals.   \\n \\nNational Development Objectives \\n\\nDespite suffering decades of instability and war, Afghanistan has made considerable development progress. \\nOver  the  past  13  years  notable  achievements  have  been  made  in  the  areas  of  environment,  agriculture, \\nhealth, education, infrastructure, the economy, and the provision of other important basic services.4 \\n \\nAfghanistan\\xe2\\x80\\x99s  National  Development  Strategy  (ANDS) \\nis  based  on  Afghanistan\\xe2\\x80\\x99s  Millennium \\nDevelopment  Goals  (MDGs).  It  identifies  the  environment  as  \\xe2\\x80\\x9ca  cross-cutting  issue  that  underpins  the \\nentire social and economic development framework for the country.\\xe2\\x80\\x9d The National Environment Protection \\nAgency  (NEPA),  mandated  to  address  environmental  concerns,  continues  to  work  with  all  parts  of  the \\nGovernment  of  the  Islamic  Republic  of  Afghanistan  (GIRoA)  to  mainstream  environmental  and  climate \\n                                                 \\n1 CSO 2015 estimation \\n2 IMF 2015 estimate for Afghanistan. \\n3 NEPA (2009), National Capacity Needs Self-Assessment for Global Environmental Management (NCSA) and \\nNational Adaptation Programme of Action for Climate Change (NAPA).  \\n4 (GIRoA, 2015) \\n\\n \\n\\n2 \\n\\n\\x0cchange  considerations  into  the  country\\xe2\\x80\\x99s  national  development  framework.  NEPA  advocates  for \\nappropriate policies and measures that enable rapid development while ensuring good environmental and \\nclimate  change  outcomes.  Afghanistan  has  developed  its  INDC  with  the  conviction  that  countering  the \\neffects  of  climate  change  requires  a  commitment  from  all  countries  with  regard  to  mitigation,  and \\nadaptation. \\n \\nIn terms of international commitments on climate change,  Afghanistan joined the UNFCCC in 1992, and \\nratified the Kyoto Protocol in 2013. Afghanistan completed its National Adaptation Programmes of Action \\nfor  Climate  Change  (NAPA)  and  National  Capacity  Needs  Self-assessment  for  Global  Environmental \\nManagement (NCSA) in 2009. Afghanistan submitted its Initial National Communication (INC) under the \\nUNFCCC in 2012, and is currently preparing its Second National Communication (SNC) for submission to \\nthe  UNFCCC  in  2016.  At  present,  Afghanistan  is  finalizing  its  national  Climate  Change  Strategy  and \\nAction Plan (ACCSAP) as well as its National Adaptation Plan (NAP). \\n \\nIn 2015, as part of the INDC preparation process, NEPA convened a series of consultation and awareness-\\nraising  workshops to  bring  together  decision-makers  from  government  institutions  and  stakeholders  from \\nnon-governmental  organizations  to  develop  the  current  INDC  and  establish  a  sustainable  development \\nvision for Afghanistan. Through this INDC process and existing policies and strategies, the overall vision \\nthat was developed for Afghanistan aims to enhance the adaptive capacity and resilience of its agriculture, \\nenvironment, and population to climate change, while developing and implementing LEDS.  \\n \\nClimate Change Trends, Impacts, and Vulnerabilities \\n\\nAfghanistan is ranked among the most vulnerable countries in the world to the adverse impacts of climate \\nchange.5  Afghanistan\\xe2\\x80\\x99s  INC  report  has  documented  an  increase  of  0.6\\xc2\\xb0C  in  the  country\\xe2\\x80\\x99s  mean  annual \\ntemperature  since  1960.  Based  upon  recent  climate  observations,  precipitation  patterns  have  decreased \\nduring  springtime  (March-May)  by  approximately  40.5mm;  however,  the  total  annual  precipitation  has \\nonly slightly decreased by approximately 30mm since there is a slight increase in precipitation from June \\nuntil  November.  This  implies  that  Afghanistan  is  already  beginning  to  experience  the  initial  adverse \\nimpacts of climate change.  \\n \\nRecent  climate  projections,  based  on  Cordex  regional  climate  models  and  representative  concentration \\npathways  (RCPs)6,  indicate  that  Afghanistan  will  face  an  overall  strong  increase  in  mean  annual \\ntemperature,  considerably  higher  than  global  mean  projections,  when  compared  to  a  baseline  period  of \\n1986-2006. More specifically, under the \\xe2\\x80\\x9coptimistic\\xe2\\x80\\x9d scenario (RCP4.5), the mean of the model ensembles \\nprojects  a  warming  of  approximately  1.5\\xc2\\xb0C  until  2050  and  of  approximately  2.5\\xc2\\xb0C  until  2100.  For  the \\n\\xe2\\x80\\x9cpessimistic\\xe2\\x80\\x9d scenario (RCP8.5), the models project an extreme warming of approximately 3\\xc2\\xb0C until 2050, \\nwith further warming up to 7\\xc2\\xb0C by 2100. Under both scenarios there are regional differences, with a higher \\ntemperature increases at higher altitudes compared to the lowlands.  \\n \\nFor precipitation a significant (\\xce\\xb1=0.05) mean decrease of precipitation during springtime (March-May) for \\nthe  North,  the  Central  Highlands  and  the  East  for  both  scenarios  from  2006  until  2050  between  5-10 \\npercent is seen. This decrease is offset by a slight increase of precipitation during autumn and wintertime \\n(October-December)  in  these  regions.  For  the  Hindu  Kush  area,  a  significant  and  substantial  increase  in \\nprecipitation during the winter season of approximately 10 percent is seen, whereas during spring season \\nprecipitation  is  projected  to  stay  stable.  For  the  arid  South  of  the  country,  the  models  do  not  project \\nsignificant trends for precipitation. The decrease of precipitation during spring is particularly relevant since \\nduring these months the main plant growth for agricultural production takes place. In addition, the decrease \\n\\n                                                 \\n5 DARA Climate Vulnerability Monitor (2012); GermanWatch Global Climate Risk Index (2013); and Notre \\nDame Global Adaptation Index (2014). \\n6 Representative concentration pathways (RCPs) are GHG emission scenarios adopted by the IPCC to describe \\nfour possible climate futures depending on the levels of future global GHGs emitted. There are four RCPs: 1) \\nRCP2.6, which assumes that GHG emissions peak between 2010-2020 and then decline; 2) RCP4.5, which \\nassumes that GHG emissions peak around 2040 and then decline; 3) RCP6, which assumes that GHG emissions \\npeak around 2080 and then decline; and 4) RCP8.5, which assumes that GHGs emissions continue to rise \\nthroughout the 21st century.  \\n\\n \\n\\n3 \\n\\n\\x0cis  projected  to  take  place  in  the  regions  with  the  highest  agricultural  productivity  of  Afghanistan  (East, \\nNorth,  and  Central  Highlands).  In  combination  with  the  overall  increase  in  temperature  and  the  related \\nincrease in evapotranspiration across the country, this will most likely negatively impact the hydrological \\ncycle,  agricultural  productivity,  and  availability  of  water  resources.  Climatic  changes  are  also  likely  to \\nimpact  upon  the  spread  of  water,  food  and  vector-borne  diseases,  presenting  considerable  health  risks  to \\nboth  urban  and  rural  populations.  Finally,  the  aforementioned  climate-induced  risks  and  challenges  can \\nenhance  social inequalities,  poverty,  and  food insecurity  causing  considerable  and  fundamental threats  to \\nhuman life, livelihoods, property, political stability, the economy, and the environment in Afghanistan. \\n \\nBased upon these climate change projections, Afghanistan\\xe2\\x80\\x99s environment will experience considerable \\nchanges over the remainder of this century. Climate change, based on sound scientific analysis of climatic \\nchanges and uncertainties, must be mainstreamed into sectoral planning to reduce the negative impacts of \\nclimate change in Afghanistan and increase resilience, both in rural and urban areas.  \\n \\n\\n2. Climate Change Adaptation \\n\\nNear- and Long-term Adaptation Visions, Goals and Targets \\n \\nAfghanistan\\xe2\\x80\\x99s  vision  for  addressing  the  adverse  impacts  of  climate  change  through  adaptation  aims  to \\nprotect the country and its population by enhancing adaptive capacity and resilience, effectively respond to \\nthe vulnerabilities of critical sectors, and efficiently mainstream climate change considerations into national \\ndevelopment policies, strategies, and plans. In order to achieve this vision, a national strategy for climate \\nchange adaptation must include community level vulnerabilities and build up their adaptive capacities by \\ninvestment  in  short-  and  long-term  initiatives.  Short-term  action  plans  formed  part  of  the  2009  NAPA, \\nwhile  the  NAP  will  implement  both  short-  and  long-term  priorities  These  priorities  include,  but  are  not \\nlimited to:  \\n\\n1.  Reducing vulnerability of the country and its population through enhancement of adaptive capacity \\n\\nand resilience, and deployment of disaster risk reduction approaches  \\n\\n2.  Integrating climate change consideration into the national planning processes \\n3.  Promoting  economic  development  and  sustainable  rural \\nlivelihoods \\n\\nthrough  sustainable \\nmanagement  of  environmental  resources  and  increase  access  to  modern  forms  of  efficient  and \\nsustainable energy services \\n\\n4.  Improvement of technical capacity in governmental institutions \\n5.  Adaptive and integrated land and water management  \\n6.  Improving  access  by  rural  communities  and  farmers  to  water  to  support  food  security,  reduce \\n\\npoverty and improve agricultural productions \\n\\n7.  Raising awareness for people of Afghanistan on climate change impacts and adaptation measures  \\n\\n \\n\\nCurrent Adaptation Undertakings and Support \\n \\nAfghanistan has initiated a number of steps to promote the country\\xe2\\x80\\x99s sustainable development. In term of \\nnational  development  policies,  plans,  and  legal  frameworks,  considerable  effort  has  been  placed  on \\naddressing  environmental  challenges,  disaster  risk  reduction,  food  security,  water  security,  protection  of \\nforest and rangelands, and biodiversity conservation, all of which have clear relevance to climate change \\nadaptation.  Some  noteworthy  examples  of  such  policies  and  plans  that  have  successfully  and  explicitly \\nintegrated climate change include:  \\n \\n\\n\\xef\\x82\\xb7  Afghanistan National Renewable Energy Policy (ANREP) \\n\\xef\\x82\\xb7  National Water and Natural Resource Management Priority Programme \\n\\xef\\x82\\xb7  Strategic National Action Plan for Disaster Risk Reduction (SNAP) \\n\\xef\\x82\\xb7  National Environmental Action Plan (NEAP) \\n\\xef\\x82\\xb7  National Comprehensive Agriculture Production and Market Development Programme \\n\\xef\\x82\\xb7  Energy for Rural Development (ERDA) \\n\\xef\\x82\\xb7  National Biodiversity Strategy and Action Plan (NBSAP) \\n \\n\\n \\n\\n4 \\n\\n\\x0c \\nAdditional  national  development  policies,  strategies,  and  plans  that  currently  do  not  mention  climate \\nchange but have entry points for the further mainstreaming of climate change include:  \\n \\n\\n\\xef\\x82\\xb7  National Agricultural Development Framework (NADF) \\n\\xef\\x82\\xb7  National Environment Strategy \\n\\xef\\x82\\xb7  Energy Sector Strategy \\n\\xef\\x82\\xb7  National Forestry Management Plan \\n\\xef\\x82\\xb7  Rangeland Management Plan \\n\\xef\\x82\\xb7  Strategic Policy Framework for the Water Sector \\n\\n \\nIn  term  of  programmes  and  projects,  support  provided  by  the  international  community  and  multilateral \\nagencies have laid the groundwork for building Afghanistan\\xe2\\x80\\x99s adaptive capacity and resilience to climate \\nchange. Major contributors include the Tokyo Framework bilateral partners, Global Environmental Facility \\n(GEF),  which  has  provided  support  through  enabling  activities,  mid-size  projects,  and  full-size  climate \\nchange  adaptation  projects  funded  by  the  Least  Developed  Countries  Fund  (LDCF),  as  well  as  bilateral \\ndonors,  non-governmental  organizations,  and  the  United  Nations.  With  the  scale  and  urgency  of \\nAfghanistan\\xe2\\x80\\x99s  adaptation  needs,  additional  financial  and  other  resources  are  strongly  needed  in  order  to \\neffectively  build  the  adaptive  capacity  and  resilience  of  the  country  and  its  people  before  more  severe \\nimpacts of climate change begin to be felt. \\n \\nAdaptation Needs and Means of Implementation (MOI) \\n \\nAfghanistan  faces  a  number  of  specific  challenges  in  terms  of  addressing  climate  change  through \\nadaptation. These challenges include, but are not limited to, funding gaps, lack of expertise, lack of reliable \\nhistorical  climate  data,  weak  public  awareness  about environmental  issues,  and security.  Afghanistan has \\nidentified  the  following  key  actions  as  part  of  its  National  Adaptation  Plan  (NAP)  in  order  to  overcome \\nexisting  gaps  and  barriers  towards  sufficiently  addressing  its  climate  change  adaptation  needs.  The  total \\nestimated cost of full implementation of the NAP is USD10.785 billion over ten years. \\n \\n\\nAction- Planning, technology \\nand capacity building needs \\nDevelopment and adoption of the \\nAfghanistan CCSAP. \\nDevelopment of a system to \\nmonitor and assess vulnerability \\nand adaptation to climate change. \\nIdentification and mainstreaming \\nof climate change adaptation \\ntechnologies into the sectoral \\npolicies, strategies and \\ndevelopment plans, and \\npromotion of regional and \\ninternational cooperation and \\ncoordination for adaptation \\ntechnology transfer. \\nStrengthen and expand \\nmeteorological and hydrological \\nmonitoring networks and \\nservices, including a national \\ndatabase to archive and store \\nmeteorological and hydrological \\ndata.  \\nDevelopment of water resources \\nthrough rehabilitation and \\nreconstruction of small-, \\nmedium-, and large-scale \\n\\n \\n\\nTechnology Needs \\n\\n-- \\n\\nCapacity Building \\n\\nFinance Needs \\n\\nNeeds \\n\\n-- \\n\\n(USD) \\n\\nOwn contribution \\n\\nClimate science \\ntechnology  \\n\\nClimate science institutes \\nwith university \\n\\n0.02 Billion \\n\\nClimate policy \\ntechnologies and \\nmethods \\n\\nTraining Afghan climate \\npolicy experts \\n\\n0.01 Billion \\n \\n\\nHydrological, \\nmeteorological and \\ndata equipment and \\nintegrated systems \\n\\nOperators and analysts for \\nhydrological, \\nmeteorological and data \\nintegrated systems \\n\\n0.1 Billion \\n\\nImproved designs and \\nmethodologies for \\ncatchment \\nmanagement \\n\\n5 \\n\\nEcological engineering and \\nspatial planning for water \\nresources \\n\\n0.75 Billion \\n\\n\\x0cinfrastructure. \\nPlanning for proper watershed \\nmanagement and promoted \\nthrough community-based natural \\nresources management.  \\nIncreasing irrigated agricultural \\nland to 3.14 M-ha, through \\nrestoration and development of \\nAfghanistan\\xe2\\x80\\x99s irrigation systems. \\n\\ntechnology \\nFull catchment \\nplanning technology \\nand models \\n\\nEco-agriculture and \\nclimate friendly \\nirrigation technology \\ntransfer to \\nAfghanistan \\n\\nConservation ecology \\nmethods and tools \\n\\nTechnology transfer \\nof renewable energy \\nand sustainable \\nenergy \\n\\nAt least 10% of Afghanistan land \\narea and the habitat of selected \\nspecies under a system of \\nconservation  \\nBehavioural change and \\nopportunities for provision and \\ndevelopment of alternative and \\nrenewable energy sources for \\n25% of the rural population \\nabove existing levels (15%), in \\norder to contribute to a reduction \\nin the unsustainable usage of \\nnatural resources and decreasing \\nthe strong reliance on fossil fuels \\nby rural communities. \\nRegeneration of at least 40% of \\nexisting degraded forests and \\nrangeland areas (the area covered \\nwill be approximately 232,050 ha \\nfor forestry; and 5.35 million ha \\nfor rangelands).   \\nTOTAL FINANCIAL RESOURCES NEEDED: \\n\\nForestry and \\nrangeland \\nmanagement tools and \\nmethods transferred to \\nAfghanistan \\n\\nPractitioners for watershed \\nmanagement \\n\\n2.5 Billion \\n\\n4.5 Billion \\n \\n\\n0.3 Billion \\n\\n0.105 Billion \\n\\nVocational and \\nengineering capacity to \\ndesign, build and maintain \\nclimate friendly irrigation \\nnetworks and local \\nschemes. \\nProtected areas and species \\necologists, and ecological \\neconomists trained and \\nworking. \\nNational centre for \\nsustainable energy \\nstrengthened and \\nexpanded. Combine public \\nand private competencies. \\n\\nPractitioners group built in \\nuniversity, government \\nand local delivery levels. \\n\\n2.5 Billion \\n\\n10.785 Billion \\n\\n \\n \\n3. Climate Change Mitigation \\n \\nGHG Emissions and Mitigation Measures \\nAfghanistan has very low relative per capita GHG emissions. While 1990 emissions were at 0.2 metric tons \\nCO2 per capita, data indicates that per capita emissions were around 0.3 for 2010, making Afghanistan one \\nof the lowest GHG emitters globally.7 However, the country is on a growth path, which is expected to \\nstrengthen over the coming years, meaning GHG emissions are likely to increase. It is important that \\nsupport be provided to Afghanistan to develop LEDS to minimize the increase in its GHG emissions. \\n \\nAfghanistan\\xe2\\x80\\x99s overall GHG emission figures (Table 1) demonstrate that the most important sources of CO2 \\nemissions are from the \\xe2\\x80\\x9cLand-Use Change and Forestry\\xe2\\x80\\x9d and \\xe2\\x80\\x9cEnergy\\xe2\\x80\\x9d sectors.8 In terms of CH4 and N2O \\nemissions, the agriculture sector is the major contributor.9 It is therefore important that greater attention \\nshould be focused on GHG mitigation measures within these sectors. Afghanistan has only started to access \\nUNFCCC technology transfer opportunities. It needs to build national capacity to navigate opportunities \\nand play a more critical role in international negotiations.  \\nThe following mitigation options are designed to enable Afghanistan to make a mitigation contribution \\nwhich is condition on support needs for financial and technical support being met. \\n \\n\\n                                                 \\n7 The World Bank, CO2 Emissions (Metric Tons Per Capita). \\nhttp://data.worldbank.org/indicator/EN.ATM.CO2E.PC  \\n8 NEPA & ADB (2007), Afghanistan Greenhouse Gas Inventory Report.  \\n9 IBID \\n\\n6 \\n\\n \\n\\n\\x0cType of \\nContribution \\n\\nGases \\nSectors \\n\\n \\n\\n2030 Mitigation Contribution \\n\\nConditional  Target:  A  relatively  reduction  in  GHG  emission  is  achievable  through \\nmeeting Afghanistan\\xe2\\x80\\x99s financial, technical, and technological needs in energy, forest and \\nrangeland, industrial process and extractive industry, agriculture and livestock, and waste \\nmanagement  sectors.  Primarily  focused  is  on  sustainable  process  and  development \\ninitiatives based on the outcomes of 2015 national consultation on LEDS and NAMA. \\nCarbon dioxide (CO2), methane (CH4), and nitrous oxide (N2O) \\n\\xef\\x82\\xb7  Energy Production (hydropower, solar systems, wind and biomass, commercial, \\n\\ndomestic: clean cook stoves and fuels, and solar energy \\n\\n\\xef\\x82\\xb7  Energy Efficiency (households, transport, industry, services, mining, agriculture) \\n\\xef\\x82\\xb7  Land  Use,  Forests  and  Rangelands  (Afforestation  and  reforestation,  natural  forests, \\n\\nfuelwood from forest and orchards, rangelands rehabilitation) \\n\\n\\xef\\x82\\xb7  Agriculture and Livestock (manure management, land use/change for agriculture) \\n\\xef\\x82\\xb7 \\n\\xef\\x82\\xb7 \\n\\xef\\x82\\xb7 \\n\\nIrrigation Infrastructure \\nImproved Cropping Systems \\nIndustrial  Processes  and  Extractive  Industries  (mining  and  extractives,  gas  and \\nhydrocarbons, coal and minerals) end-use saving, and fuel shifts \\n\\n\\xef\\x82\\xb7  Power plants: fuel shift to natural gas and renewables \\n\\xef\\x82\\xb7  Transport: more efficient vehicles, clean fuels, and alternative fuels \\n\\xef\\x82\\xb7  Waste Management (solid waste management and wastewater recycling/composing \\n\\nof biodegradable waste instead of landfill, and methane recovery from landfill)  \\n\\n\\xef\\x82\\xb7  Coal mines: gas recovery in coal mines \\n\\xef\\x82\\xb7  Rice paddies: modified rice strains \\n\\xef\\x82\\xb7  Mitigation measures for N2O include reduced fertilizer application; optimal timing of \\n\\nfertilizer application; nitrification inhibitors, less use of histosols (peat soils)10. \\n\\n \\n\\n \\nAfghanistan\\xe2\\x80\\x99s  GHG  inventory  in  Table  1  is  calculated  for  each  GHG  emission  sector  for  200511  and \\nbusiness-as-usual projections based on the growth rate for a medium-term timeframe (2020-2030). \\n \\n\\nTable 1: Green House Gas Emissions of CO2, CH4 and N20 in Afghanistan in 2005-2030* \\n\\nGHG emission \\n\\nsector \\n\\nEnergy \\n\\nIndustry \\n\\nAgriculture \\n\\nLand use change and \\nforestry \\n\\nCO2 Equivalent, Gg \\n\\n2020 \\n\\n2025 \\n\\n2030 \\n\\nCO2 \\n\\nCH4 \\n\\nN2O \\n\\nAggregated \\n\\nCO2-eq, Gg \\n\\nCO2-eq, Gg \\n\\nCO2-eq, Gg \\n\\n2,910.04 \\n\\n736.00 \\n\\n129.83 \\n\\n3,775.87 \\n\\n9,745.46 \\n\\n10,849.02 \\n\\n12,087.00 \\n\\n312.15 \\n\\n- \\n\\n- \\n\\n312.15 \\n\\n791.57 \\n\\n878.25 \\n\\n974.42 \\n\\n- \\n\\n9,296.49 \\n\\n5,812.50 \\n\\n15,108.99 \\n\\n24,665.30** \\n\\n29,578.77** \\n\\n35,471.04** \\n\\n9,341.13 \\n\\n80.64 \\n\\n9.30 \\n\\n9,431.07 \\n\\n10,949.18 \\n\\n11,507.70 \\n\\n12,094.71 \\n\\nWaste \\n\\n- \\n\\n130.41 \\n\\n- \\n\\n130.41 \\n\\n330.70** \\n\\n366.91** \\n\\n407.09** \\n\\nTotal GHG emission \\nincl. LULUCF \\n\\nTotal GHG emission \\nexcl. LULUCF \\n\\n12,563.32 \\n\\n10,243.54 \\n\\n5,951.63 \\n\\n28,758.49 \\n\\n46,482.20 \\n\\n53,180.64 \\n\\n61,034.25 \\n\\n3,222.19 \\n\\n10,162.90 \\n\\n5,942.33 \\n\\n19,327.42 \\n\\n35,533.02 \\n\\n41,672.95 \\n\\n48,939.54 \\n\\n \\n\\n \\n\\n* Information used from ADB \\xe2\\x80\\x93 Afghanistan Greenhouse Gas Inventory Report and projection for 2020-2030 using GACMO model \\n\\n** CH4 (CH4 emission x 21) and N2O (N2O emission x 310) counted as CO2-eq \\n\\n \\n\\n                                                 \\n10 IBID \\n11 IBID \\n\\n \\n\\n7 \\n\\n\\x0c \\n\\nClimate Mitigation Gaps and Barriers and Support Needs \\n\\nUSD 662 Million/Year from 2020 \\n\\nSector \\n\\nTechnology and Capacity Building Needs \\n\\nEnergy Efficiency in \\nBuildings and in \\nTransport Sector \\n\\nEnergy \\n\\nCarbon finance and project development skills. \\nInformation on available technologies, measures, and financing skills. \\nTraditional customs and administered pricing. \\nBuilding codes, and standards on appliances and equipment. \\nClean cooking, heating and power projects. \\nHuman and institutional capacity for adoption of cleaner technology. \\nCapital markets that encourage investment in decentralized systems. \\nInformation and intellectual property rights for mitigation technologies. \\nRenewable energy, entry costs support, access to capital, and subsidies. \\nEnvironmental compliance standards (emission and indoor). \\n\\nWaste Management   Landfill management, decentralised wastewater treatment. \\n\\nClimate Project development skills.  \\n\\nForest and \\nRangelands \\n\\nCarbon sequestration on forest/rangelands, and forest carbon skills. \\nFunding institutional capacity to monitor and verify projects. \\nBetter spatial planning for community and production agriculture. \\nReduce rural peoples\\xe2\\x80\\x99 dependence on fuel for cooking and heating. \\n\\nFinance \\nNeeds \\n(USD) \\n\\n100 \\n\\nmillion/Year \\n\\n188 \\n\\nMillion/Year \\n\\n74 \\n\\nMillion/Year \\n\\n100 \\n\\nMillion/Year \\n\\nIndustry and Mining  Cleaner coal mining, leave-it-in-the-ground approaches, combustion, and \\n\\n100 \\n\\nAgriculture and \\nLivestock \\n\\ntransportation of minerals.  \\nHydrocarbon fields management.  \\nTechnical  industrial  capacity  to  link  basic  industry  and  mining  private \\nand public sector with climate sector experts.  \\nNational herd, reduction in fuel used, or cleaner fuel technologies.  \\nSouth-south collaboration on low-carbon agriculture, study tours. \\nFunding for R&D activities.  \\nImproved national dataset on agriculture, food security data. \\n\\nMillion/Year \\n\\n100 \\n\\nMillion/Year \\n\\n \\n\\n \\n\\n8 \\n\\n\\x0c'"
      ]
     },
     "execution_count": 9,
     "metadata": {},
     "output_type": "execute_result"
    }
   ],
   "source": [
    "test"
   ]
  },
  {
   "cell_type": "markdown",
   "metadata": {},
   "source": [
    "Save the plain text to a file as follows."
   ]
  },
  {
   "cell_type": "code",
   "execution_count": null,
   "metadata": {
    "collapsed": true
   },
   "outputs": [],
   "source": [
    "with open(\"test.txt\", \"w\") as text_file:\n",
    "    text_file.write(test)"
   ]
  },
  {
   "cell_type": "markdown",
   "metadata": {},
   "source": [
    "To process multiple files, you can identify the target files, and process them all as folows:"
   ]
  },
  {
   "cell_type": "code",
   "execution_count": 3,
   "metadata": {
    "collapsed": true
   },
   "outputs": [],
   "source": [
    "import os"
   ]
  },
  {
   "cell_type": "code",
   "execution_count": 4,
   "metadata": {
    "collapsed": true
   },
   "outputs": [],
   "source": [
    "pdf_directory = './NDC_pdfs'\n",
    "files = [ filename for filename in os.listdir(pdf_directory) if filename.endswith('.pdf')]"
   ]
  },
  {
   "cell_type": "code",
   "execution_count": 5,
   "metadata": {
    "collapsed": false
   },
   "outputs": [
    {
     "name": "stdout",
     "output_type": "stream",
     "text": [
      "Reading ./NDC_pdfs/INDC-Ethiopia-100615.pdf\n",
      "Reading ./NDC_pdfs/INDC_2015_of_Bangladesh.pdf\n",
      "Reading ./NDC_pdfs/INDC_AFG_Paper_En_20150927_.docx FINAL.pdf\n",
      "Reading ./NDC_pdfs/LV-03-06-EU INDC.pdf\n",
      "Reading ./NDC_pdfs/Norway INDC 26MAR2015.pdf\n"
     ]
    }
   ],
   "source": [
    "d = {}\n",
    "for fname in files:\n",
    "    target = ''.join([pdf_directory,'/', fname])\n",
    "    print(\"Reading {}\".format(target))\n",
    "    try:\n",
    "        d[fname] = convert_pdf_to_txt(path=target, clean=False)\n",
    "    except:\n",
    "        d[fname] = None"
   ]
  },
  {
   "cell_type": "code",
   "execution_count": 7,
   "metadata": {
    "collapsed": false,
    "scrolled": false
   },
   "outputs": [],
   "source": [
    "d  # the text for each file is accessible via a key from the d object"
   ]
  },
  {
   "cell_type": "code",
   "execution_count": null,
   "metadata": {
    "collapsed": true
   },
   "outputs": [],
   "source": []
  }
 ],
 "metadata": {
  "kernelspec": {
   "display_name": "Python 2",
   "language": "python",
   "name": "python2"
  },
  "language_info": {
   "codemirror_mode": {
    "name": "ipython",
    "version": 2
   },
   "file_extension": ".py",
   "mimetype": "text/x-python",
   "name": "python",
   "nbconvert_exporter": "python",
   "pygments_lexer": "ipython2",
   "version": "2.7.11"
  }
 },
 "nbformat": 4,
 "nbformat_minor": 2
}
