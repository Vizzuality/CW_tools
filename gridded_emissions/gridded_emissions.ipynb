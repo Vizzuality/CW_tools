{
 "cells": [
  {
   "cell_type": "markdown",
   "metadata": {},
   "source": [
    "### Exploring the CDIAC gridded emissions data\n",
    "\n",
    "The [CDIAC](http://cdiac.ornl.gov/epubs/ndp/ndp058/ndp058_v2016.html) has some potentially useful gridded emissions data. Annual summaries at a 1x1 degree resolution from 1751 to 2013. These data may be useful for using as a secondary method to estimate national/subnational emissions, by applying statistical reductions to geometries over these or similar data. (such as EDGAR or [FFDAS](http://hpcg.purdue.edu/FFDAS/index.php?page=media)).\n",
    "\n",
    "This notebook shows how to extract the CDIAC data, and convert them to a geotif, ready for use."
   ]
  },
  {
   "cell_type": "code",
   "execution_count": 1,
   "metadata": {
    "collapsed": true
   },
   "outputs": [],
   "source": [
    "import numpy as np\n",
    "import matplotlib.pyplot as plt\n",
    "%matplotlib inline"
   ]
  },
  {
   "cell_type": "code",
   "execution_count": 5,
   "metadata": {},
   "outputs": [],
   "source": [
    "dat = np.fromfile('./gridcar.2010')"
   ]
  },
  {
   "cell_type": "code",
   "execution_count": 121,
   "metadata": {},
   "outputs": [],
   "source": [
    "with open('./example_data/gridcar.2013') as f:\n",
    "    lines = f.read()\n",
    "lines = lines.split('\\n')[:-1]\n",
    "vals = [float(line) for line in lines]\n",
    "\n",
    "assert 360*180 == len(vals), \"Values seem to be missing from the file or not parsed correctly\""
   ]
  },
  {
   "cell_type": "code",
   "execution_count": 90,
   "metadata": {},
   "outputs": [],
   "source": [
    "dat = np.reshape(vals, [180,360])"
   ]
  },
  {
   "cell_type": "code",
   "execution_count": 102,
   "metadata": {},
   "outputs": [
    {
     "data": {
      "text/plain": [
       "<matplotlib.image.AxesImage at 0x11b2484e0>"
      ]
     },
     "execution_count": 102,
     "metadata": {},
     "output_type": "execute_result"
    },
    {
     "data": {
      "image/png": "[encoded data removed]",
      "text/plain": [
       "<matplotlib.figure.Figure at 0x11b136320>"
      ]
     },
     "metadata": {},
     "output_type": "display_data"
    }
   ],
   "source": [
    "plt.figure(figsize=(10,9))\n",
    "plt.imshow(dat)"
   ]
  },
  {
   "cell_type": "code",
   "execution_count": 105,
   "metadata": {},
   "outputs": [
    {
     "data": {
      "text/plain": [
       "9233.6278169794969"
      ]
     },
     "execution_count": 105,
     "metadata": {},
     "output_type": "execute_result"
    }
   ],
   "source": [
    "dat.sum()"
   ]
  },
  {
   "cell_type": "markdown",
   "metadata": {},
   "source": [
    "## These data can be written to a Geotiff Raster like so"
   ]
  },
  {
   "cell_type": "code",
   "execution_count": 110,
   "metadata": {},
   "outputs": [],
   "source": [
    "import rasterio"
   ]
  },
  {
   "cell_type": "code",
   "execution_count": 118,
   "metadata": {},
   "outputs": [
    {
     "data": {
      "text/plain": [
       "Affine(1.0, 0.0, -179.5,\n",
       "       0.0, -1.0, 89.5)"
      ]
     },
     "execution_count": 118,
     "metadata": {},
     "output_type": "execute_result"
    }
   ],
   "source": [
    "pixel_size = 0.5\n",
    "west = -180 + pixel_size\n",
    "north = 90 - pixel_size\n",
    "\n",
    "trans = rasterio.transform.from_origin(west, north, 1.0, 1.0)\n",
    "trans"
   ]
  },
  {
   "cell_type": "code",
   "execution_count": 115,
   "metadata": {
    "collapsed": true
   },
   "outputs": [],
   "source": [
    "rasterio.transform.from_origin?"
   ]
  },
  {
   "cell_type": "code",
   "execution_count": 119,
   "metadata": {},
   "outputs": [],
   "source": [
    "profile = {'driver': 'GTiff', \n",
    "           'dtype': 'float32',\n",
    "           'compress': 'lzw',\n",
    "           'nodata': -999.,\n",
    "           'width': 360,\n",
    "           'height': 180,\n",
    "           'count': 1,\n",
    "           'crs':'EPSG:4326',\n",
    "           'transform': trans,\n",
    "           'tiled': False}"
   ]
  },
  {
   "cell_type": "code",
   "execution_count": 120,
   "metadata": {
    "collapsed": true
   },
   "outputs": [],
   "source": [
    "with rasterio.open('test.tif', 'w', **profile) as dst:\n",
    "    dst.write(dat.astype(profile['dtype']), 1)"
   ]
  },
  {
   "cell_type": "markdown",
   "metadata": {},
   "source": [
    "### Example of 2013 emissions data in geotiff format\n",
    "![alt text](./static/example_image.png \"Resulting graphic\")"
   ]
  }
 ],
 "metadata": {
  "kernelspec": {
   "display_name": "Python 3",
   "language": "python",
   "name": "python3"
  },
  "language_info": {
   "codemirror_mode": {
    "name": "ipython",
    "version": 3
   },
   "file_extension": ".py",
   "mimetype": "text/x-python",
   "name": "python",
   "nbconvert_exporter": "python",
   "pygments_lexer": "ipython3",
   "version": "3.6.1"
  }
 },
 "nbformat": 4,
 "nbformat_minor": 2
}
